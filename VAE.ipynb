{
 "cells": [
  {
   "cell_type": "markdown",
   "metadata": {},
   "source": [
    "# Import Required Packages"
   ]
  },
  {
   "cell_type": "code",
   "execution_count": 2,
   "metadata": {},
   "outputs": [],
   "source": [
    "import torch\n",
    "import torch.nn as nn\n",
    "import torch.optim as optim\n",
    "from torch.autograd import Variable\n",
    "import torchvision\n",
    "import torchvision.datasets as datasets\n",
    "from torch.utils.data import DataLoader, ConcatDataset\n",
    "from torch.distributions import Normal, kl_divergence\n",
    "from torch.nn.functional import one_hot\n",
    "from torchvision import transforms\n",
    "import matplotlib.pyplot as plt"
   ]
  },
  {
   "cell_type": "markdown",
   "metadata": {},
   "source": [
    "# Load Dataset"
   ]
  },
  {
   "cell_type": "code",
   "execution_count": null,
   "metadata": {},
   "outputs": [],
   "source": [
    "transforms_ = transforms.Compose([\n",
    "    transforms.Resize([14,14]),\n",
    "    transforms.ToTensor()\n",
    "])\n",
    "\n",
    "train_set = datasets.MNIST( download=True,  root=\"./\",  transform=transforms_ ,train=True)\n",
    "test_set = datasets.MNIST(download=True, root=\"./\", transform=transforms_, train=False)\n",
    "full_set = ConcatDataset([train_set, test_set])\n",
    "train_loader = DataLoader(full_set, batch_size=2048, shuffle=False)"
   ]
  },
  {
   "cell_type": "markdown",
   "metadata": {},
   "source": [
    "# Define Model, Loss And Optimizer"
   ]
  },
  {
   "cell_type": "code",
   "execution_count": 3,
   "metadata": {},
   "outputs": [],
   "source": [
    "class VarietionalAutoEncoder(nn.Module):\n",
    "    def __init__(self):\n",
    "        super().__init__()\n",
    "        self.down_layer = nn.Sequential(\n",
    "            nn.Linear(196 + 10, 256),\n",
    "            nn.LeakyReLU(0.2, True),\n",
    "            nn.Linear(256, 128),\n",
    "            nn.LeakyReLU(0.2, True),\n",
    "            nn.Linear(128, 128),\n",
    "            nn.BatchNorm1d(128)\n",
    "        )\n",
    "        self.up_layer = nn.Sequential(\n",
    "            nn.Linear(64 + 10, 128),\n",
    "            nn.LeakyReLU(0.2, True),\n",
    "            nn.Linear(128, 256),\n",
    "            nn.LeakyReLU(0.2, True),\n",
    "            nn.Linear(256, 196)\n",
    "        )\n",
    "        \n",
    "    def forward(self, image, label):\n",
    "        image_with_one_hot = torch.concatenate([image.view(-1, 196), one_hot(label)], dim=1)\n",
    "        o = self.down_layer(image_with_one_hot)\n",
    "        mu = o[:, :64]\n",
    "        sigma = o[:, 64:]\n",
    "        std = sigma.exp_()\n",
    "        eps = Variable(torch.FloatTensor(std.size()).normal_().to(image.device))\n",
    "        noise = eps.mul(std).add_(mu)\n",
    "        noise_with_one_hot = torch.concatenate([noise, one_hot(label)], dim=1)\n",
    "        return self.up_layer(noise_with_one_hot).view(-1, 1, 14, 14), noise, mu, std\n",
    "    \n",
    "    def generate(self, label):\n",
    "        noise = torch.randn(label.shape[0], 64).to(label.device)\n",
    "        noise_with_one_hot = torch.concatenate([noise, one_hot(label, 10)], dim=1)\n",
    "        return self.up_layer(noise_with_one_hot).view(-1, 14, 14)\n",
    "    \n",
    "\n",
    "device = 'cuda' if torch.cuda.is_available() else 'cpu'\n",
    "vae = VarietionalAutoEncoder().to(device)\n",
    "vae.load_state_dict(torch.load('vae.pth', 'cuda', weights_only=True))\n",
    "criterion = nn.L1Loss()\n",
    "optimizer = optim.Adam(vae.parameters(), lr=1e-2)"
   ]
  },
  {
   "cell_type": "markdown",
   "metadata": {},
   "source": [
    "# Train Model"
   ]
  },
  {
   "cell_type": "code",
   "execution_count": null,
   "metadata": {},
   "outputs": [],
   "source": [
    "import numpy as np\n",
    "import torch\n",
    "from torch.distributions import Normal, kl_divergence\n",
    "\n",
    "def compute_kl_divergence(mu, sigma):\n",
    "    output_distribution = Normal(mu, sigma)\n",
    "    standard_normal_distribution = Normal(torch.zeros_like(mu), torch.ones_like(sigma))\n",
    "    kl_loss = kl_divergence(output_distribution, standard_normal_distribution)\n",
    "    return kl_loss.mean().abs()\n",
    "\n",
    "for epoch in range(30):        \n",
    "    l1_loss = []\n",
    "    kld_loss = []\n",
    "    total_loss = []\n",
    "    for i, (data, label) in enumerate(data):\n",
    "        data = data.to(device)\n",
    "        label = label.to(device)\n",
    "        image, noise, mu, std = vae(data, label)\n",
    "        l1 = criterion(data, image)\n",
    "        kld = compute_kl_divergence(mu, std)\n",
    "        loss = 0.9 * l1 + 0.1 * kld\n",
    "        l1_loss.append(l1.item())\n",
    "        kld_loss.append(kld.item())\n",
    "        total_loss.append(loss.item())\n",
    "        optimizer.zero_grad()\n",
    "        loss.backward()\n",
    "        optimizer.step()\n",
    "\n",
    "    print(f'epoch {epoch+1}      l1 {np.mean(l1_loss)}      kld {np.mean(kld_loss)}      total {np.mean(total_loss)}')\n",
    "        "
   ]
  },
  {
   "cell_type": "markdown",
   "metadata": {},
   "source": [
    "# Generate Results"
   ]
  },
  {
   "cell_type": "code",
   "execution_count": 4,
   "metadata": {},
   "outputs": [
    {
     "data": {
      "image/png": "[encoded data removed]",
      "text/plain": [
       "<Figure size 640x480 with 50 Axes>"
      ]
     },
     "metadata": {},
     "output_type": "display_data"
    }
   ],
   "source": [
    "labels = torch.concatenate([torch.linspace(0, 9, 10).type(torch.LongTensor) for _ in range(5)]).to(device)\n",
    "images = vae.generate(labels)\n",
    "\n",
    "plt.figure()\n",
    "for i in range(50):\n",
    "    plt.subplot(5, 10, i+1)\n",
    "    plt.imshow(images[i].detach().cpu().numpy().reshape(14,14), cmap='gray')\n",
    "    plt.axis('off')\n",
    "plt.show()"
   ]
  }
 ],
 "metadata": {
  "kernelspec": {
   "display_name": "Python 3",
   "language": "python",
   "name": "python3"
  },
  "language_info": {
   "codemirror_mode": {
    "name": "ipython",
    "version": 3
   },
   "file_extension": ".py",
   "mimetype": "text/x-python",
   "name": "python",
   "nbconvert_exporter": "python",
   "pygments_lexer": "ipython3",
   "version": "3.11.2"
  }
 },
 "nbformat": 4,
 "nbformat_minor": 2
}
